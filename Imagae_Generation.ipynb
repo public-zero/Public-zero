{
  "nbformat": 4,
  "nbformat_minor": 0,
  "metadata": {
    "colab": {
      "provenance": [],
      "authorship_tag": "ABX9TyMkqt7IMCA5us0/D0jVNBun",
      "include_colab_link": true
    },
    "kernelspec": {
      "name": "python3",
      "display_name": "Python 3"
    },
    "language_info": {
      "name": "python"
    }
  },
  "cells": [
    {
      "cell_type": "markdown",
      "metadata": {
        "id": "view-in-github",
        "colab_type": "text"
      },
      "source": [
        "<a href=\"https://colab.research.google.com/github/public-zero/Public-zero/blob/main/Imagae_Generation.ipynb\" target=\"_parent\"><img src=\"https://colab.research.google.com/assets/colab-badge.svg\" alt=\"Open In Colab\"/></a>"
      ]
    },
    {
      "cell_type": "code",
      "execution_count": null,
      "metadata": {
        "id": "f0X78LWCnVdS"
      },
      "outputs": [],
      "source": [
        "# Установка Git (если необходимо)\n",
        "!apt-get update\n",
        "!apt-get install git -y\n",
        "\n",
        "# Настройка имени пользователя и email\n",
        "import os\n",
        "\n",
        "user_name = \"Public-zero\" # Замените на ваше имя\n",
        "user_email = \"public.address@yandex.ru\" # 3aмените на ваш email\n",
        "\n",
        "os.system(f'git config -- global user.name \"{user_name}\"')\n",
        "os.system(f'git config -- global user.email \"{user_email}\"')"
      ]
    },
    {
      "cell_type": "code",
      "source": [
        "from getpass import getpass\n",
        "\n",
        "#Введите ваш Github Token без пробелов\n",
        "TOKEN = getpass('Введите ваш Github токен: ')\n",
        "\n",
        "# URL вашего репозитория\n",
        "REPO_URL = 'https://github.com/public-zero/Image_Generation.git'\n",
        "\n",
        "# Клонирование репозитория с использованием токена\n",
        "!git clone https://{TOKEN}@github.com/public-zero/Image_Generation.git"
      ],
      "metadata": {
        "colab": {
          "base_uri": "https://localhost:8080/"
        },
        "id": "3Q6cqKWgn4Fp",
        "outputId": "22acb95f-2d8b-4753-f2f8-3459bab76b92"
      },
      "execution_count": 7,
      "outputs": [
        {
          "output_type": "stream",
          "name": "stdout",
          "text": [
            "Введите ваш Github токен: ··········\n",
            "Cloning into 'Image_Generation'...\n",
            "remote: Enumerating objects: 3, done.\u001b[K\n",
            "remote: Counting objects: 100% (3/3), done.\u001b[K\n",
            "remote: Compressing objects: 100% (2/2), done.\u001b[K\n",
            "remote: Total 3 (delta 0), reused 0 (delta 0), pack-reused 0 (from 0)\u001b[K\n",
            "Receiving objects: 100% (3/3), done.\n"
          ]
        }
      ]
    }
  ]
}